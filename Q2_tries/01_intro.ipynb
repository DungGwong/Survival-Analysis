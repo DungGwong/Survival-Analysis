{
 "cells": [
  {
   "cell_type": "code",
   "execution_count": 9,
   "id": "c58732c5-aea1-4920-a92d-19d8e1a5145b",
   "metadata": {},
   "outputs": [],
   "source": [
    "from pyspark.sql.functions import col, when\n",
    "from pyspark.sql.types import StructType,StructField,DoubleType, StringType, IntegerType\n",
    "from pyspark.sql import SparkSession\n",
    "from pyspark import SparkConf\n",
    "from pyspark.sql.types import StructType, StructField, StringType, IntegerType\n",
    "\n",
    "conf = SparkConf().setAppName(\"Project Q2\").set(\"spark.jars\", \"/data/lab/mysql-connector-j-8.4.0.jar\")\n",
    "spark = SparkSession.builder.config(conf=conf).getOrCreate()"
   ]
  },
  {
   "cell_type": "code",
   "execution_count": 10,
   "id": "16301db7-2279-4078-9546-e79697c3c169",
   "metadata": {},
   "outputs": [],
   "source": [
    "##构建dataframe的schema\n",
    "schema = StructType([\n",
    "  StructField('customerID', StringType()),\n",
    "  StructField('gender', StringType()),\n",
    "  StructField('seniorCitizen', DoubleType()),\n",
    "  StructField('partner', StringType()),\n",
    "  StructField('dependents', StringType()),\n",
    "  StructField('tenure', DoubleType()),\n",
    "  StructField('phoneService', StringType()),\n",
    "  StructField('multipleLines', StringType()),\n",
    "  StructField('internetService', StringType()), \n",
    "  StructField('onlineSecurity', StringType()),\n",
    "  StructField('onlineBackup', StringType()),\n",
    "  StructField('deviceProtection', StringType()),\n",
    "  StructField('techSupport', StringType()),\n",
    "  StructField('streamingTV', StringType()),\n",
    "  StructField('streamingMovies', StringType()),\n",
    "  StructField('contract', StringType()),\n",
    "  StructField('paperlessBilling', StringType()),\n",
    "  StructField('paymentMethod', StringType()),\n",
    "  StructField('monthlyCharges', DoubleType()),\n",
    "  StructField('totalCharges', DoubleType()),\n",
    "  StructField('churnString', StringType())\n",
    "  ])"
   ]
  },
  {
   "cell_type": "code",
   "execution_count": 11,
   "id": "a8264c17-b6a0-4611-adc4-b42542e73074",
   "metadata": {},
   "outputs": [],
   "source": [
    "##把原始文件导入\n",
    "bronze_path = \"Telco-Customer-Churn.csv\"\n",
    "bronze_df = spark.read.format('csv').schema(schema).option('header','true').load(bronze_path)"
   ]
  },
  {
   "cell_type": "code",
   "execution_count": 12,
   "id": "25c211a1-7ece-4c32-a8ce-ab0242069cdf",
   "metadata": {},
   "outputs": [
    {
     "name": "stderr",
     "output_type": "stream",
     "text": [
      "25/04/12 09:47:20 WARN CSVHeaderChecker: CSV header does not conform to the schema.\n",
      " Header: customerID, gender, SeniorCitizen, Partner, Dependents, tenure, PhoneService, MultipleLines, InternetService, OnlineSecurity, OnlineBackup, DeviceProtection, TechSupport, StreamingTV, StreamingMovies, Contract, PaperlessBilling, PaymentMethod, MonthlyCharges, TotalCharges, Churn\n",
      " Schema: customerID, gender, seniorCitizen, partner, dependents, tenure, phoneService, multipleLines, internetService, onlineSecurity, onlineBackup, deviceProtection, techSupport, streamingTV, streamingMovies, contract, paperlessBilling, paymentMethod, monthlyCharges, totalCharges, churnString\n",
      "Expected: churnString but found: Churn\n",
      "CSV file: file:///data/lab/Project/Q2_tries/Telco-Customer-Churn.csv\n"
     ]
    }
   ],
   "source": [
    "#把原始文件处理成新文件，并写出\n",
    "silver_df = bronze_df.withColumn('churn',when(col('churnString') == 'Yes',1).when(col('churnString') == 'No',0).otherwise('Unknown'))\\\n",
    "                     .drop('churnString').filter(col('contract') == 'Month-to-month')\\\n",
    "                     .filter(col('internetService') != 'No')\n",
    "\n",
    "# 将 Spark DataFrame 转换为 Pandas DataFrame,以方便输出成含有表头的csv表格\n",
    "silver_pd = silver_df.toPandas()\n",
    "\n",
    "# 使用 Pandas 写入 CSV 文件\n",
    "silver_pd.to_csv(\"silver_data.csv\", index=False)"
   ]
  },
  {
   "cell_type": "code",
   "execution_count": 15,
   "id": "34a83912-9242-429e-b328-45d21212d5ac",
   "metadata": {},
   "outputs": [
    {
     "name": "stdout",
     "output_type": "stream",
     "text": [
      "+----------+------+-------------+-------+----------+------+------------+----------------+---------------+--------------+------------+----------------+-----------+-----------+---------------+--------------+----------------+----------------+--------------+------------+-----+\n",
      "|       _c0|   _c1|          _c2|    _c3|       _c4|   _c5|         _c6|             _c7|            _c8|           _c9|        _c10|            _c11|       _c12|       _c13|           _c14|          _c15|            _c16|            _c17|          _c18|        _c19| _c20|\n",
      "+----------+------+-------------+-------+----------+------+------------+----------------+---------------+--------------+------------+----------------+-----------+-----------+---------------+--------------+----------------+----------------+--------------+------------+-----+\n",
      "|customerID|gender|seniorCitizen|partner|dependents|tenure|phoneService|   multipleLines|internetService|onlineSecurity|onlineBackup|deviceProtection|techSupport|streamingTV|streamingMovies|      contract|paperlessBilling|   paymentMethod|monthlyCharges|totalCharges|churn|\n",
      "|7590-VHVEG|Female|          0.0|    Yes|        No|   1.0|          No|No phone service|            DSL|            No|         Yes|              No|         No|         No|             No|Month-to-month|             Yes|Electronic check|         29.85|       29.85|    0|\n",
      "|3668-QPYBK|  Male|          0.0|     No|        No|   2.0|         Yes|              No|            DSL|           Yes|         Yes|              No|         No|         No|             No|Month-to-month|             Yes|    Mailed check|         53.85|      108.15|    1|\n",
      "|9237-HQITU|Female|          0.0|     No|        No|   2.0|         Yes|              No|    Fiber optic|            No|          No|              No|         No|         No|             No|Month-to-month|             Yes|Electronic check|          70.7|      151.65|    1|\n",
      "|9305-CDSKC|Female|          0.0|     No|        No|   8.0|         Yes|             Yes|    Fiber optic|            No|          No|             Yes|         No|        Yes|            Yes|Month-to-month|             Yes|Electronic check|         99.65|       820.5|    1|\n",
      "+----------+------+-------------+-------+----------+------+------------+----------------+---------------+--------------+------------+----------------+-----------+-----------+---------------+--------------+----------------+----------------+--------------+------------+-----+\n",
      "only showing top 5 rows\n",
      "\n"
     ]
    }
   ],
   "source": [
    "silver_data = spark.read.csv(\"silver_data.csv\")\n",
    "silver_data.show(5)"
   ]
  },
  {
   "cell_type": "code",
   "execution_count": null,
   "id": "50769d50-ff7d-420d-af71-04c8600fb5c4",
   "metadata": {},
   "outputs": [],
   "source": []
  }
 ],
 "metadata": {
  "kernelspec": {
   "display_name": "Python 3 (ipykernel)",
   "language": "python",
   "name": "python3"
  },
  "language_info": {
   "codemirror_mode": {
    "name": "ipython",
    "version": 3
   },
   "file_extension": ".py",
   "mimetype": "text/x-python",
   "name": "python",
   "nbconvert_exporter": "python",
   "pygments_lexer": "ipython3",
   "version": "3.10.12"
  }
 },
 "nbformat": 4,
 "nbformat_minor": 5
}
