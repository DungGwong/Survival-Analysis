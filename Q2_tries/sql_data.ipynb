{
 "cells": [
  {
   "cell_type": "code",
   "execution_count": 2,
   "id": "970ec224-aba4-44aa-80c0-862af5e0d450",
   "metadata": {},
   "outputs": [],
   "source": [
    "from pyspark.sql import SparkSession\n",
    "from pyspark import SparkConf\n",
    "from pyspark.sql.types import StructType, StructField, StringType, IntegerType"
   ]
  },
  {
   "cell_type": "code",
   "execution_count": 3,
   "id": "69334e39-6d74-464e-9c9d-f47502ae9a83",
   "metadata": {},
   "outputs": [
    {
     "name": "stderr",
     "output_type": "stream",
     "text": [
      "25/04/12 08:05:19 WARN NativeCodeLoader: Unable to load native-hadoop library for your platform... using builtin-java classes where applicable\n",
      "Setting default log level to \"WARN\".\n",
      "To adjust logging level use sc.setLogLevel(newLevel). For SparkR, use setLogLevel(newLevel).\n",
      "25/04/12 08:05:20 WARN Utils: Service 'SparkUI' could not bind on port 4040. Attempting port 4041.\n",
      "25/04/12 08:05:20 WARN Utils: Service 'SparkUI' could not bind on port 4041. Attempting port 4042.\n",
      "25/04/12 08:05:20 WARN Utils: Service 'SparkUI' could not bind on port 4042. Attempting port 4043.\n",
      "25/04/12 08:05:20 WARN Utils: Service 'SparkUI' could not bind on port 4043. Attempting port 4044.\n",
      "25/04/12 08:05:20 WARN Utils: Service 'SparkUI' could not bind on port 4044. Attempting port 4045.\n",
      "25/04/12 08:05:20 WARN Utils: Service 'SparkUI' could not bind on port 4045. Attempting port 4046.\n",
      "25/04/12 08:05:20 WARN Utils: Service 'SparkUI' could not bind on port 4046. Attempting port 4047.\n",
      "25/04/12 08:05:20 WARN Utils: Service 'SparkUI' could not bind on port 4047. Attempting port 4048.\n",
      "25/04/12 08:05:20 WARN Utils: Service 'SparkUI' could not bind on port 4048. Attempting port 4049.\n",
      "25/04/12 08:05:20 WARN Utils: Service 'SparkUI' could not bind on port 4049. Attempting port 4050.\n",
      "25/04/12 08:05:20 WARN Utils: Service 'SparkUI' could not bind on port 4050. Attempting port 4051.\n",
      "25/04/12 08:05:20 WARN Utils: Service 'SparkUI' could not bind on port 4051. Attempting port 4052.\n",
      "25/04/12 08:05:20 WARN Utils: Service 'SparkUI' could not bind on port 4052. Attempting port 4053.\n",
      "                                                                                "
     ]
    }
   ],
   "source": [
    "#提供环境\n",
    "conf = SparkConf().setAppName(\"Spark Read MySQL\").set(\"spark.jars\", \"/data/lab/mysql-connector-j-8.4.0.jar\")\n",
    "spark = SparkSession.builder.config(conf=conf).getOrCreate()\n",
    "silver_path = \"silver_data.csv\"\n",
    "df = spark.read.csv(silver_path, header=True, inferSchema=True)"
   ]
  },
  {
   "cell_type": "code",
   "execution_count": 4,
   "id": "dadc8d2d-4d1d-45a9-a9a6-a2d634e3f778",
   "metadata": {},
   "outputs": [
    {
     "name": "stderr",
     "output_type": "stream",
     "text": [
      "25/04/12 08:08:37 WARN SparkStringUtils: Truncated the string representation of a plan since it was too large. This behavior can be adjusted by setting 'spark.sql.debug.maxToStringFields'.\n",
      "                                                                                "
     ]
    }
   ],
   "source": [
    "##向数据库写入数据\n",
    "df.write.format(\"jdbc\") \\\n",
    "        .option(\"url\", \"jdbc:mysql://localhost:3306/spark_project?useSSL=false&serverTimezone=UTC\") \\\n",
    "        .option(\"driver\", \"com.mysql.cj.jdbc.Driver\") \\\n",
    "        .option(\"dbtable\", \"silver\") \\\n",
    "        .option(\"user\", \"root\") \\\n",
    "        .option(\"password\", \"123456\") \\\n",
    "        .mode(\"append\") \\\n",
    "        .save()"
   ]
  },
  {
   "cell_type": "code",
   "execution_count": 5,
   "id": "79f5287c-6a89-4ce4-8edc-05b8738b3bb9",
   "metadata": {},
   "outputs": [
    {
     "name": "stdout",
     "output_type": "stream",
     "text": [
      "+----------+------+-------------+-------+----------+------+------------+----------------+---------------+--------------+------------+----------------+-----------+-----------+---------------+--------------+----------------+--------------------+--------------+------------+-----+\n",
      "|customerID|gender|seniorCitizen|partner|dependents|tenure|phoneService|   multipleLines|internetService|onlineSecurity|onlineBackup|deviceProtection|techSupport|streamingTV|streamingMovies|      contract|paperlessBilling|       paymentMethod|monthlyCharges|totalCharges|churn|\n",
      "+----------+------+-------------+-------+----------+------+------------+----------------+---------------+--------------+------------+----------------+-----------+-----------+---------------+--------------+----------------+--------------------+--------------+------------+-----+\n",
      "|7590-VHVEG|Female|          0.0|    Yes|        No|   1.0|          No|No phone service|            DSL|            No|         Yes|              No|         No|         No|             No|Month-to-month|             Yes|    Electronic check|         29.85|       29.85|    0|\n",
      "|3668-QPYBK|  Male|          0.0|     No|        No|   2.0|         Yes|              No|            DSL|           Yes|         Yes|              No|         No|         No|             No|Month-to-month|             Yes|        Mailed check|         53.85|      108.15|    1|\n",
      "|9237-HQITU|Female|          0.0|     No|        No|   2.0|         Yes|              No|    Fiber optic|            No|          No|              No|         No|         No|             No|Month-to-month|             Yes|    Electronic check|          70.7|      151.65|    1|\n",
      "|9305-CDSKC|Female|          0.0|     No|        No|   8.0|         Yes|             Yes|    Fiber optic|            No|          No|             Yes|         No|        Yes|            Yes|Month-to-month|             Yes|    Electronic check|         99.65|       820.5|    1|\n",
      "|1452-KIOVK|  Male|          0.0|     No|       Yes|  22.0|         Yes|             Yes|    Fiber optic|            No|         Yes|              No|         No|        Yes|             No|Month-to-month|             Yes|Credit card (auto...|          89.1|      1949.4|    0|\n",
      "|6713-OKOMC|Female|          0.0|     No|        No|  10.0|          No|No phone service|            DSL|           Yes|          No|              No|         No|         No|             No|Month-to-month|              No|        Mailed check|         29.75|       301.9|    0|\n",
      "|7892-POOKP|Female|          0.0|    Yes|        No|  28.0|         Yes|             Yes|    Fiber optic|            No|          No|             Yes|        Yes|        Yes|            Yes|Month-to-month|             Yes|    Electronic check|         104.8|     3046.05|    1|\n",
      "|9763-GRSKD|  Male|          0.0|    Yes|       Yes|  13.0|         Yes|              No|            DSL|           Yes|          No|              No|         No|         No|             No|Month-to-month|             Yes|        Mailed check|         49.95|      587.45|    0|\n",
      "|0280-XJGEX|  Male|          0.0|     No|        No|  49.0|         Yes|             Yes|    Fiber optic|            No|         Yes|             Yes|         No|        Yes|            Yes|Month-to-month|             Yes|Bank transfer (au...|         103.7|      5036.3|    1|\n",
      "|5129-JLPIS|  Male|          0.0|     No|        No|  25.0|         Yes|              No|    Fiber optic|           Yes|          No|             Yes|        Yes|        Yes|            Yes|Month-to-month|             Yes|    Electronic check|         105.5|     2686.05|    0|\n",
      "|4190-MFLUW|Female|          0.0|    Yes|       Yes|  10.0|         Yes|              No|            DSL|            No|          No|             Yes|        Yes|         No|             No|Month-to-month|              No|Credit card (auto...|          55.2|      528.35|    1|\n",
      "|4183-MYFRB|Female|          0.0|     No|        No|  21.0|         Yes|              No|    Fiber optic|            No|         Yes|             Yes|         No|         No|            Yes|Month-to-month|             Yes|    Electronic check|         90.05|      1862.9|    0|\n",
      "|8779-QRDMV|  Male|          1.0|     No|        No|   1.0|          No|No phone service|            DSL|            No|          No|             Yes|         No|         No|            Yes|Month-to-month|             Yes|    Electronic check|         39.65|       39.65|    1|\n",
      "|6322-HRPFA|  Male|          0.0|    Yes|       Yes|  49.0|         Yes|              No|            DSL|           Yes|         Yes|              No|        Yes|         No|             No|Month-to-month|              No|Credit card (auto...|          59.6|      2970.3|    0|\n",
      "|6865-JZNKO|Female|          0.0|     No|        No|  30.0|         Yes|              No|            DSL|           Yes|         Yes|              No|         No|         No|             No|Month-to-month|             Yes|Bank transfer (au...|          55.3|      1530.6|    0|\n",
      "|6467-CHFZW|  Male|          0.0|    Yes|       Yes|  47.0|         Yes|             Yes|    Fiber optic|            No|         Yes|              No|         No|        Yes|            Yes|Month-to-month|             Yes|    Electronic check|         99.35|     4749.15|    1|\n",
      "|8665-UTDHZ|  Male|          0.0|    Yes|       Yes|   1.0|          No|No phone service|            DSL|            No|         Yes|              No|         No|         No|             No|Month-to-month|              No|    Electronic check|          30.2|        30.2|    1|\n",
      "|8773-HHUOZ|Female|          0.0|     No|       Yes|  17.0|         Yes|              No|            DSL|            No|          No|              No|         No|        Yes|            Yes|Month-to-month|             Yes|        Mailed check|          64.7|      1093.1|    1|\n",
      "|4929-XIHVW|  Male|          1.0|    Yes|        No|   2.0|         Yes|              No|    Fiber optic|            No|          No|             Yes|         No|        Yes|            Yes|Month-to-month|             Yes|Credit card (auto...|          95.5|      181.65|    0|\n",
      "|3413-BMNZE|  Male|          1.0|     No|        No|   1.0|         Yes|              No|            DSL|            No|          No|              No|         No|         No|             No|Month-to-month|              No|Bank transfer (au...|         45.25|       45.25|    0|\n",
      "+----------+------+-------------+-------+----------+------+------------+----------------+---------------+--------------+------------+----------------+-----------+-----------+---------------+--------------+----------------+--------------------+--------------+------------+-----+\n",
      "only showing top 20 rows\n",
      "\n"
     ]
    }
   ],
   "source": [
    "##验证是否写入数据\n",
    "jdbc_df = spark.read.format(\"jdbc\") \\\n",
    "    .option(\"url\", \"jdbc:mysql://localhost:3306/spark_project?useSSL=false&serverTimezone=UTC\") \\\n",
    "    .option(\"driver\", \"com.mysql.cj.jdbc.Driver\") \\\n",
    "    .option(\"dbtable\", \"silver\") \\\n",
    "    .option(\"user\", \"root\") \\\n",
    "    .option(\"password\", \"123456\") \\\n",
    "    .load()\n",
    "\n",
    "jdbc_df.show()"
   ]
  },
  {
   "cell_type": "code",
   "execution_count": 8,
   "id": "a45db0f4-16f5-4293-a5d1-cd3ab526f6cd",
   "metadata": {},
   "outputs": [
    {
     "name": "stdout",
     "output_type": "stream",
     "text": [
      "+----------+------+\n",
      "|customerID|tenure|\n",
      "+----------+------+\n",
      "|7892-POOKP|  28.0|\n",
      "|0280-XJGEX|  49.0|\n",
      "|5129-JLPIS|  25.0|\n",
      "|6322-HRPFA|  49.0|\n",
      "|6865-JZNKO|  30.0|\n",
      "+----------+------+\n",
      "only showing top 5 rows\n",
      "\n"
     ]
    }
   ],
   "source": [
    "##通过临时视图简略地复现我所完成的LLM代码\n",
    "df.createOrReplaceTempView(\"silver\")\n",
    "select_months = spark.sql(\"\"\"\n",
    "SELECT customerID, tenure\n",
    "FROM silver\n",
    "WHERE tenure > 24 AND tenure < 60;\n",
    "\"\"\")\n",
    "select_months.show(5)\n",
    "##这里LLM没有理解我的指令，因此没有取闭区间"
   ]
  },
  {
   "cell_type": "code",
   "execution_count": 9,
   "id": "c34d7829-42b0-4436-a6df-018e74779941",
   "metadata": {},
   "outputs": [
    {
     "name": "stdout",
     "output_type": "stream",
     "text": [
      "+----------+------+\n",
      "|customerID|tenure|\n",
      "+----------+------+\n",
      "|7892-POOKP|  28.0|\n",
      "|0280-XJGEX|  49.0|\n",
      "|5129-JLPIS|  25.0|\n",
      "|6322-HRPFA|  49.0|\n",
      "|6865-JZNKO|  30.0|\n",
      "+----------+------+\n",
      "only showing top 5 rows\n",
      "\n"
     ]
    }
   ],
   "source": [
    "##正确情况\n",
    "select_months_true = spark.sql(\"\"\"\n",
    "SELECT customerID, tenure\n",
    "FROM silver\n",
    "WHERE tenure BETWEEN 24 AND 60;\n",
    "\"\"\")\n",
    "select_months_true.show(5)"
   ]
  },
  {
   "cell_type": "code",
   "execution_count": null,
   "id": "7d7aa5b5-99f4-4942-a487-5f71eef29ba3",
   "metadata": {},
   "outputs": [],
   "source": []
  }
 ],
 "metadata": {
  "kernelspec": {
   "display_name": "Python 3 (ipykernel)",
   "language": "python",
   "name": "python3"
  },
  "language_info": {
   "codemirror_mode": {
    "name": "ipython",
    "version": 3
   },
   "file_extension": ".py",
   "mimetype": "text/x-python",
   "name": "python",
   "nbconvert_exporter": "python",
   "pygments_lexer": "ipython3",
   "version": "3.10.12"
  }
 },
 "nbformat": 4,
 "nbformat_minor": 5
}
