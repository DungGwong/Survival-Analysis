{
 "cells": [
  {
   "cell_type": "markdown",
   "id": "c0e0b543-4cce-4b48-965a-f38b09c41828",
   "metadata": {
    "jp-MarkdownHeadingCollapsed": true
   },
   "source": [
    "## Q1.Security Data Analysis"
   ]
  },
  {
   "cell_type": "markdown",
   "id": "bf9084c7-0344-4f7f-9c8f-9e673273a564",
   "metadata": {},
   "source": [
    "# (1)"
   ]
  },
  {
   "cell_type": "code",
   "execution_count": 25,
   "id": "f0d5c8f5-c951-4c12-92a5-df637bc09943",
   "metadata": {},
   "outputs": [
    {
     "name": "stderr",
     "output_type": "stream",
     "text": [
      "                                                                                "
     ]
    }
   ],
   "source": [
    "from pyspark.sql import SparkSession\n",
    "spark = SparkSession.builder.config('spark.ui.port', 4040).appName(\"Project_Security\").getOrCreate()\n",
    "\n",
    "http_path = \"Q1_data/*/http.log.gz\"\n",
    "dns_path = \"Q1_data/*/dns.log.gz\"\n",
    "\n",
    "#读取成为dataframe\n",
    "df_http = spark.read.json(http_path)\n",
    "df_dns = spark.read.json(dns_path)\n",
    "\n",
    "#通过cast转换格式至Timestamp\n",
    "df_http = df_http.withColumn(\"ts\", df_http[\"ts\"].cast(\"Timestamp\"))\n",
    "\n",
    "#创建临时视图\n",
    "df_http.createOrReplaceTempView(\"http_log\")\n",
    "df_dns.createOrReplaceTempView(\"dns_log\")"
   ]
  },
  {
   "cell_type": "markdown",
   "id": "d73fcd3b-f823-40b4-b4a0-846c736b602e",
   "metadata": {},
   "source": [
    "# (2)"
   ]
  },
  {
   "cell_type": "code",
   "execution_count": 26,
   "id": "74b93ce7-74b6-4d21-849d-d3be540fbc57",
   "metadata": {},
   "outputs": [
    {
     "name": "stderr",
     "output_type": "stream",
     "text": [
      "[Stage 40:=============================>                            (1 + 1) / 2]"
     ]
    },
    {
     "name": "stdout",
     "output_type": "stream",
     "text": [
      "+--------------------+------------+\n",
      "|                 uri|access_count|\n",
      "+--------------------+------------+\n",
      "|/admin/config.php...|         556|\n",
      "|  /main.php?logout=1|         194|\n",
      "|/top.php?stuff=15...|         191|\n",
      "|            /top.php|         179|\n",
      "|/main.php?stuff=1...|         172|\n",
      "+--------------------+------------+\n",
      "only showing top 5 rows\n",
      "\n"
     ]
    },
    {
     "name": "stderr",
     "output_type": "stream",
     "text": [
      "                                                                                "
     ]
    }
   ],
   "source": [
    "#Spark SQL API\n",
    "#过滤、分组和排序\n",
    "##这里count(*)就是计算每个分组的行数，也就是uri数\n",
    "##添加了一个筛选无内容uri的做法，防止空uri混入影响数据判断\n",
    "operated_sql_http = spark.sql(\"\"\"\n",
    "    SELECT uri, COUNT(*) AS access_count\n",
    "    FROM http_log\n",
    "    WHERE status_code = 200 AND method = 'GET' AND uri != '/'\n",
    "    GROUP BY uri\n",
    "    ORDER BY access_count DESC\n",
    "\"\"\")\n",
    "\n",
    "operated_sql_http.show(5)"
   ]
  },
  {
   "cell_type": "code",
   "execution_count": 15,
   "id": "815c5995-c75b-413d-96db-9d6ebdeec0e4",
   "metadata": {},
   "outputs": [
    {
     "name": "stderr",
     "output_type": "stream",
     "text": [
      "[Stage 25:=============================>                            (1 + 1) / 2]"
     ]
    },
    {
     "name": "stdout",
     "output_type": "stream",
     "text": [
      "+--------------------+------------+\n",
      "|                 uri|access_count|\n",
      "+--------------------+------------+\n",
      "|/admin/config.php...|         556|\n",
      "|  /main.php?logout=1|         194|\n",
      "|/top.php?stuff=15...|         191|\n",
      "|            /top.php|         179|\n",
      "|/main.php?stuff=1...|         172|\n",
      "+--------------------+------------+\n",
      "only showing top 5 rows\n",
      "\n"
     ]
    },
    {
     "name": "stderr",
     "output_type": "stream",
     "text": [
      "                                                                                "
     ]
    }
   ],
   "source": [
    "#Spark Dataframe\n",
    "#过滤、分组和排序\n",
    "from pyspark.sql.functions import col, count\n",
    "filtered_http = df_http.filter((col(\"status_code\") == 200) & (col(\"method\") == \"GET\")& (col(\"uri\") != \"/\"))\n",
    "grouped_http = filtered_http.groupBy(\"uri\").agg(count(\"*\").alias(\"access_count\"))\n",
    "operated_df_http = grouped_http.orderBy(col(\"access_count\").desc())\n",
    "operated_df_http.show(5)"
   ]
  },
  {
   "cell_type": "markdown",
   "id": "82a731b2-5813-4fb1-860c-9ef9eba70664",
   "metadata": {},
   "source": [
    "# (3)"
   ]
  },
  {
   "cell_type": "code",
   "execution_count": 17,
   "id": "ff9162d3-17de-40ca-8185-3002bd8cf085",
   "metadata": {
    "scrolled": true
   },
   "outputs": [
    {
     "name": "stderr",
     "output_type": "stream",
     "text": [
      "                                                                                "
     ]
    },
    {
     "name": "stdout",
     "output_type": "stream",
     "text": [
      "+----+---------+---------+---------+---------+------+--------------+----------+---------------+------+-------+--------+----------------+--------------+----------+---------------+-----------------+-----------+----------+----+-----------+---+---+---+----------+--------+-------+---+---+---+---+----+---+-------+---------+---------+---------+---------+-----+------+-----------+-----+----------+-----+-----+----------+--------+---+--------+---+---+\n",
      "|host|id.orig_h|id.orig_p|id.resp_h|id.resp_p|method|orig_filenames|orig_fuids|orig_mime_types|origin|proxied|referrer|request_body_len|resp_filenames|resp_fuids|resp_mime_types|response_body_len|status_code|status_msg|tags|trans_depth| ts|uid|uri|user_agent|username|version| AA| RA| RD| TC|TTLs|  Z|answers|id.orig_h|id.orig_p|id.resp_h|id.resp_p|proto|qclass|qclass_name|qtype|qtype_name|query|rcode|rcode_name|rejected|rtt|trans_id| ts|uid|\n",
      "+----+---------+---------+---------+---------+------+--------------+----------+---------------+------+-------+--------+----------------+--------------+----------+---------------+-----------------+-----------+----------+----+-----------+---+---+---+----------+--------+-------+---+---+---+---+----+---+-------+---------+---------+---------+---------+-----+------+-----------+-----+----------+-----+-----+----------+--------+---+--------+---+---+\n",
      "+----+---------+---------+---------+---------+------+--------------+----------+---------------+------+-------+--------+----------------+--------------+----------+---------------+-----------------+-----------+----------+----+-----------+---+---+---+----------+--------+-------+---+---+---+---+----+---+-------+---------+---------+---------+---------+-----+------+-----------+-----+----------+-----+-----+----------+--------+---+--------+---+---+\n",
      "\n"
     ]
    }
   ],
   "source": [
    "##join\n",
    "joined_df = spark.sql(\"\"\"\n",
    "    Select *\n",
    "    From http_log\n",
    "    Join dns_log\n",
    "    On http_log.uid = dns_log.uid\n",
    "\"\"\")\n",
    "joined_df.show(5)"
   ]
  },
  {
   "cell_type": "code",
   "execution_count": 19,
   "id": "e12b7fef-557d-4c51-adbe-32b64898bd07",
   "metadata": {},
   "outputs": [
    {
     "ename": "AnalysisException",
     "evalue": "[UNRESOLVED_COLUMN.WITH_SUGGESTION] A column or function parameter with name `proto` cannot be resolved. Did you mean one of the following? [`host`, `ts`, `uid`, `uri`, `method`].; line 2 pos 29;\n'Sort ['access_count DESC NULLS LAST], true\n+- 'Aggregate [uri#267], [uri#267, 'ROUND((('COUNT(('proto = tcp)) / count(1)) * 100), 2) AS tcp_percentage#1540]\n   +- Filter (((status_code#261L = cast(200 as bigint)) AND (method#249 = GET)) AND NOT (uri#267 = /))\n      +- SubqueryAlias http_log\n         +- View (`http_log`, [host#244,id.orig_h#245,id.orig_p#246L,id.resp_h#247,id.resp_p#248L,method#249,orig_filenames#250,orig_fuids#251,orig_mime_types#252,origin#253,proxied#254,referrer#255,request_body_len#256L,resp_filenames#257,resp_fuids#258,resp_mime_types#259,response_body_len#260L,status_code#261L,status_msg#262,tags#263,trans_depth#264L,ts#354,uid#266,uri#267,user_agent#268,username#269,version#270])\n            +- Project [host#244, id.orig_h#245, id.orig_p#246L, id.resp_h#247, id.resp_p#248L, method#249, orig_filenames#250, orig_fuids#251, orig_mime_types#252, origin#253, proxied#254, referrer#255, request_body_len#256L, resp_filenames#257, resp_fuids#258, resp_mime_types#259, response_body_len#260L, status_code#261L, status_msg#262, tags#263, trans_depth#264L, cast(ts#265 as timestamp) AS ts#354, uid#266, uri#267, ... 3 more fields]\n               +- Relation [host#244,id.orig_h#245,id.orig_p#246L,id.resp_h#247,id.resp_p#248L,method#249,orig_filenames#250,orig_fuids#251,orig_mime_types#252,origin#253,proxied#254,referrer#255,request_body_len#256L,resp_filenames#257,resp_fuids#258,resp_mime_types#259,response_body_len#260L,status_code#261L,status_msg#262,tags#263,trans_depth#264L,ts#265,uid#266,uri#267,... 3 more fields] json\n",
     "output_type": "error",
     "traceback": [
      "\u001b[0;31m---------------------------------------------------------------------------\u001b[0m",
      "\u001b[0;31mAnalysisException\u001b[0m                         Traceback (most recent call last)",
      "Cell \u001b[0;32mIn[19], line 2\u001b[0m\n\u001b[1;32m      1\u001b[0m \u001b[38;5;66;03m##calculate\u001b[39;00m\n\u001b[0;32m----> 2\u001b[0m calculate_http \u001b[38;5;241m=\u001b[39m \u001b[43mspark\u001b[49m\u001b[38;5;241;43m.\u001b[39;49m\u001b[43msql\u001b[49m\u001b[43m(\u001b[49m\u001b[38;5;124;43m\"\"\"\u001b[39;49m\n\u001b[1;32m      3\u001b[0m \u001b[38;5;124;43m    SELECT uri, ROUND((COUNT(proto = \u001b[39;49m\u001b[38;5;124;43m'\u001b[39;49m\u001b[38;5;124;43mtcp\u001b[39;49m\u001b[38;5;124;43m'\u001b[39;49m\u001b[38;5;124;43m)/COUNT(*))*100,2) AS tcp_percentage\u001b[39;49m\n\u001b[1;32m      4\u001b[0m \u001b[38;5;124;43m    FROM http_log\u001b[39;49m\n\u001b[1;32m      5\u001b[0m \u001b[38;5;124;43m    WHERE status_code = 200 AND method = \u001b[39;49m\u001b[38;5;124;43m'\u001b[39;49m\u001b[38;5;124;43mGET\u001b[39;49m\u001b[38;5;124;43m'\u001b[39;49m\u001b[38;5;124;43m AND uri != \u001b[39;49m\u001b[38;5;124;43m'\u001b[39;49m\u001b[38;5;124;43m/\u001b[39;49m\u001b[38;5;124;43m'\u001b[39;49m\n\u001b[1;32m      6\u001b[0m \u001b[38;5;124;43m    GROUP BY uri\u001b[39;49m\n\u001b[1;32m      7\u001b[0m \u001b[38;5;124;43m    ORDER BY access_count DESC\u001b[39;49m\n\u001b[1;32m      8\u001b[0m \u001b[38;5;124;43m\"\"\"\u001b[39;49m\u001b[43m)\u001b[49m\n\u001b[1;32m      9\u001b[0m calculate_http\u001b[38;5;241m.\u001b[39mshow(\u001b[38;5;241m5\u001b[39m)\n",
      "File \u001b[0;32m/usr/local/lib/python3.10/dist-packages/pyspark/sql/session.py:1631\u001b[0m, in \u001b[0;36mSparkSession.sql\u001b[0;34m(self, sqlQuery, args, **kwargs)\u001b[0m\n\u001b[1;32m   1627\u001b[0m         \u001b[38;5;28;01massert\u001b[39;00m \u001b[38;5;28mself\u001b[39m\u001b[38;5;241m.\u001b[39m_jvm \u001b[38;5;129;01mis\u001b[39;00m \u001b[38;5;129;01mnot\u001b[39;00m \u001b[38;5;28;01mNone\u001b[39;00m\n\u001b[1;32m   1628\u001b[0m         litArgs \u001b[38;5;241m=\u001b[39m \u001b[38;5;28mself\u001b[39m\u001b[38;5;241m.\u001b[39m_jvm\u001b[38;5;241m.\u001b[39mPythonUtils\u001b[38;5;241m.\u001b[39mtoArray(\n\u001b[1;32m   1629\u001b[0m             [_to_java_column(lit(v)) \u001b[38;5;28;01mfor\u001b[39;00m v \u001b[38;5;129;01min\u001b[39;00m (args \u001b[38;5;129;01mor\u001b[39;00m [])]\n\u001b[1;32m   1630\u001b[0m         )\n\u001b[0;32m-> 1631\u001b[0m     \u001b[38;5;28;01mreturn\u001b[39;00m DataFrame(\u001b[38;5;28;43mself\u001b[39;49m\u001b[38;5;241;43m.\u001b[39;49m\u001b[43m_jsparkSession\u001b[49m\u001b[38;5;241;43m.\u001b[39;49m\u001b[43msql\u001b[49m\u001b[43m(\u001b[49m\u001b[43msqlQuery\u001b[49m\u001b[43m,\u001b[49m\u001b[43m \u001b[49m\u001b[43mlitArgs\u001b[49m\u001b[43m)\u001b[49m, \u001b[38;5;28mself\u001b[39m)\n\u001b[1;32m   1632\u001b[0m \u001b[38;5;28;01mfinally\u001b[39;00m:\n\u001b[1;32m   1633\u001b[0m     \u001b[38;5;28;01mif\u001b[39;00m \u001b[38;5;28mlen\u001b[39m(kwargs) \u001b[38;5;241m>\u001b[39m \u001b[38;5;241m0\u001b[39m:\n",
      "File \u001b[0;32m/usr/local/lib/python3.10/dist-packages/py4j/java_gateway.py:1322\u001b[0m, in \u001b[0;36mJavaMember.__call__\u001b[0;34m(self, *args)\u001b[0m\n\u001b[1;32m   1316\u001b[0m command \u001b[38;5;241m=\u001b[39m proto\u001b[38;5;241m.\u001b[39mCALL_COMMAND_NAME \u001b[38;5;241m+\u001b[39m\\\n\u001b[1;32m   1317\u001b[0m     \u001b[38;5;28mself\u001b[39m\u001b[38;5;241m.\u001b[39mcommand_header \u001b[38;5;241m+\u001b[39m\\\n\u001b[1;32m   1318\u001b[0m     args_command \u001b[38;5;241m+\u001b[39m\\\n\u001b[1;32m   1319\u001b[0m     proto\u001b[38;5;241m.\u001b[39mEND_COMMAND_PART\n\u001b[1;32m   1321\u001b[0m answer \u001b[38;5;241m=\u001b[39m \u001b[38;5;28mself\u001b[39m\u001b[38;5;241m.\u001b[39mgateway_client\u001b[38;5;241m.\u001b[39msend_command(command)\n\u001b[0;32m-> 1322\u001b[0m return_value \u001b[38;5;241m=\u001b[39m \u001b[43mget_return_value\u001b[49m\u001b[43m(\u001b[49m\n\u001b[1;32m   1323\u001b[0m \u001b[43m    \u001b[49m\u001b[43manswer\u001b[49m\u001b[43m,\u001b[49m\u001b[43m \u001b[49m\u001b[38;5;28;43mself\u001b[39;49m\u001b[38;5;241;43m.\u001b[39;49m\u001b[43mgateway_client\u001b[49m\u001b[43m,\u001b[49m\u001b[43m \u001b[49m\u001b[38;5;28;43mself\u001b[39;49m\u001b[38;5;241;43m.\u001b[39;49m\u001b[43mtarget_id\u001b[49m\u001b[43m,\u001b[49m\u001b[43m \u001b[49m\u001b[38;5;28;43mself\u001b[39;49m\u001b[38;5;241;43m.\u001b[39;49m\u001b[43mname\u001b[49m\u001b[43m)\u001b[49m\n\u001b[1;32m   1325\u001b[0m \u001b[38;5;28;01mfor\u001b[39;00m temp_arg \u001b[38;5;129;01min\u001b[39;00m temp_args:\n\u001b[1;32m   1326\u001b[0m     \u001b[38;5;28;01mif\u001b[39;00m \u001b[38;5;28mhasattr\u001b[39m(temp_arg, \u001b[38;5;124m\"\u001b[39m\u001b[38;5;124m_detach\u001b[39m\u001b[38;5;124m\"\u001b[39m):\n",
      "File \u001b[0;32m/usr/local/lib/python3.10/dist-packages/pyspark/errors/exceptions/captured.py:185\u001b[0m, in \u001b[0;36mcapture_sql_exception.<locals>.deco\u001b[0;34m(*a, **kw)\u001b[0m\n\u001b[1;32m    181\u001b[0m converted \u001b[38;5;241m=\u001b[39m convert_exception(e\u001b[38;5;241m.\u001b[39mjava_exception)\n\u001b[1;32m    182\u001b[0m \u001b[38;5;28;01mif\u001b[39;00m \u001b[38;5;129;01mnot\u001b[39;00m \u001b[38;5;28misinstance\u001b[39m(converted, UnknownException):\n\u001b[1;32m    183\u001b[0m     \u001b[38;5;66;03m# Hide where the exception came from that shows a non-Pythonic\u001b[39;00m\n\u001b[1;32m    184\u001b[0m     \u001b[38;5;66;03m# JVM exception message.\u001b[39;00m\n\u001b[0;32m--> 185\u001b[0m     \u001b[38;5;28;01mraise\u001b[39;00m converted \u001b[38;5;28;01mfrom\u001b[39;00m\u001b[38;5;250m \u001b[39m\u001b[38;5;28;01mNone\u001b[39;00m\n\u001b[1;32m    186\u001b[0m \u001b[38;5;28;01melse\u001b[39;00m:\n\u001b[1;32m    187\u001b[0m     \u001b[38;5;28;01mraise\u001b[39;00m\n",
      "\u001b[0;31mAnalysisException\u001b[0m: [UNRESOLVED_COLUMN.WITH_SUGGESTION] A column or function parameter with name `proto` cannot be resolved. Did you mean one of the following? [`host`, `ts`, `uid`, `uri`, `method`].; line 2 pos 29;\n'Sort ['access_count DESC NULLS LAST], true\n+- 'Aggregate [uri#267], [uri#267, 'ROUND((('COUNT(('proto = tcp)) / count(1)) * 100), 2) AS tcp_percentage#1540]\n   +- Filter (((status_code#261L = cast(200 as bigint)) AND (method#249 = GET)) AND NOT (uri#267 = /))\n      +- SubqueryAlias http_log\n         +- View (`http_log`, [host#244,id.orig_h#245,id.orig_p#246L,id.resp_h#247,id.resp_p#248L,method#249,orig_filenames#250,orig_fuids#251,orig_mime_types#252,origin#253,proxied#254,referrer#255,request_body_len#256L,resp_filenames#257,resp_fuids#258,resp_mime_types#259,response_body_len#260L,status_code#261L,status_msg#262,tags#263,trans_depth#264L,ts#354,uid#266,uri#267,user_agent#268,username#269,version#270])\n            +- Project [host#244, id.orig_h#245, id.orig_p#246L, id.resp_h#247, id.resp_p#248L, method#249, orig_filenames#250, orig_fuids#251, orig_mime_types#252, origin#253, proxied#254, referrer#255, request_body_len#256L, resp_filenames#257, resp_fuids#258, resp_mime_types#259, response_body_len#260L, status_code#261L, status_msg#262, tags#263, trans_depth#264L, cast(ts#265 as timestamp) AS ts#354, uid#266, uri#267, ... 3 more fields]\n               +- Relation [host#244,id.orig_h#245,id.orig_p#246L,id.resp_h#247,id.resp_p#248L,method#249,orig_filenames#250,orig_fuids#251,orig_mime_types#252,origin#253,proxied#254,referrer#255,request_body_len#256L,resp_filenames#257,resp_fuids#258,resp_mime_types#259,response_body_len#260L,status_code#261L,status_msg#262,tags#263,trans_depth#264L,ts#265,uid#266,uri#267,... 3 more fields] json\n"
     ]
    }
   ],
   "source": [
    "##calculate\n",
    "calculate_http = spark.sql(\"\"\"\n",
    "    SELECT uri, ROUND((COUNT(proto = 'tcp')/COUNT(*))*100,2) AS tcp_percentage\n",
    "    FROM http_log\n",
    "    WHERE status_code = 200 AND method = 'GET' AND uri != '/'\n",
    "    GROUP BY uri\n",
    "    ORDER BY access_count DESC\n",
    "\"\"\")\n",
    "calculate_http.show(5)\n",
    "##http_log的数据中不包含proto列，但http_log和dns_log合成后的结果为空，故无法实验"
   ]
  },
  {
   "cell_type": "markdown",
   "id": "28636cc1-8cf7-471e-82c5-fe5e8e4e7f9c",
   "metadata": {},
   "source": [
    "## Q2.Survival Analysis"
   ]
  },
  {
   "cell_type": "markdown",
   "id": "e2ed0dd4-e992-4c9b-88eb-eed09c1dfaf7",
   "metadata": {},
   "source": [
    "# (1)"
   ]
  },
  {
   "cell_type": "code",
   "execution_count": null,
   "id": "ec29ad55-b3c9-431c-9d2c-34e39e12eb57",
   "metadata": {},
   "outputs": [],
   "source": []
  },
  {
   "cell_type": "markdown",
   "id": "f0754675-1aba-45e4-a8fa-a802ab4bcdea",
   "metadata": {},
   "source": [
    "# (2)"
   ]
  },
  {
   "cell_type": "code",
   "execution_count": null,
   "id": "81004470-afea-421d-8a2f-64570b3ffae6",
   "metadata": {},
   "outputs": [],
   "source": []
  },
  {
   "cell_type": "markdown",
   "id": "796f54bb-c333-4348-b91e-52367b09d6c6",
   "metadata": {},
   "source": [
    "# (3)"
   ]
  },
  {
   "cell_type": "code",
   "execution_count": null,
   "id": "107e67e0-d8b3-4fc2-9a87-4c19fde535f3",
   "metadata": {},
   "outputs": [],
   "source": []
  },
  {
   "cell_type": "markdown",
   "id": "54ac1b19-b213-46f8-8a9e-c85ba33752c9",
   "metadata": {},
   "source": [
    "# (4)"
   ]
  },
  {
   "cell_type": "code",
   "execution_count": null,
   "id": "2ccacdab-cc0a-491e-a4d4-a68f76810cdd",
   "metadata": {},
   "outputs": [],
   "source": []
  }
 ],
 "metadata": {
  "kernelspec": {
   "display_name": "Python 3 (ipykernel)",
   "language": "python",
   "name": "python3"
  },
  "language_info": {
   "codemirror_mode": {
    "name": "ipython",
    "version": 3
   },
   "file_extension": ".py",
   "mimetype": "text/x-python",
   "name": "python",
   "nbconvert_exporter": "python",
   "pygments_lexer": "ipython3",
   "version": "3.10.12"
  }
 },
 "nbformat": 4,
 "nbformat_minor": 5
}
